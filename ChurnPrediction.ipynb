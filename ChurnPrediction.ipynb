{
  "cells": [
    {
      "cell_type": "code",
      "source": [
        "%%configure -f\r\n",
        "\r\n",
        "{\r\n",
        "    \"name\": \"mmlspark\",\r\n",
        "    \"conf\": {\r\n",
        "        \"spark.jars.packages\": \"com.microsoft.azure:synapseml_2.12:0.9.4,com.microsoft.azure.kusto:kusto-spark_3.0_2.12:2.9.1,org.apache.hadoop:hadoop-azure:3.3.1\",\r\n",
        "        \"spark.jars.repositories\": \"https://mmlspark.azureedge.net/maven\",\r\n",
        "        \"spark.jars.excludes\": \"org.scala-lang:scala-reflect,org.apache.spark:spark-tags_2.12,org.scalactic:scalactic_2.12,org.scalatest:scalatest_2.12,org.json4s:json4s-ast_2.12\",\r\n",
        "        \"spark.yarn.user.classpath.first\": \"true\"\r\n",
        "    }\r\n",
        "}\r\n"
      ],
      "outputs": [],
      "execution_count": 39,
      "metadata": {
        "jupyter": {
          "source_hidden": false,
          "outputs_hidden": false
        },
        "nteract": {
          "transient": {
            "deleting": false
          }
        }
      }
    },
    {
      "cell_type": "code",
      "source": [
        "from datetime import datetime, timedelta\r\n",
        "\r\n",
        "from azure.identity import AzureCliCredential\r\n",
        "from azure.mgmt.storage import StorageManagementClient\r\n",
        "from azure_gamedev.ai.playfab import churn_classification as pfc\r\n",
        "from azure_gamedev.ai.playfab.churn_classification import PFChurnStatistics as tsMetrics\r\n",
        "from azureml.core import Workspace\r\n",
        "from pyspark.ml.evaluation import BinaryClassificationEvaluator\r\n",
        "from pyspark.ml.tuning import ParamGridBuilder, TrainValidationSplit\r\n",
        "from pyspark.ml import Pipeline\r\n",
        "from pyspark.sql import SparkSession\r\n",
        "from synapse.ml.lightgbm import LightGBMClassifier as Lgbm\r\n"
      ],
      "outputs": [],
      "execution_count": null,
      "metadata": {}
    },
    {
      "cell_type": "code",
      "source": [
        "subscription_id = \"8c40f547-9775-44d6-bb8b-19f20d050dd2\"\r\n",
        "resource_group = \"AGCIAI\"\r\n",
        "storage_account = \"agcidevstorage\"\r\n",
        "\r\n",
        "workspace_name = \"churnaml\"\r\n",
        "workspace_region = \"East US\"\r\n",
        "experiment_name = \"churn_prediction_training\"\r\n",
        "\r\n",
        "kusto_database = \"b236349bb6f8437aa1cd9fdf37ca8f72\"\r\n"
      ],
      "outputs": [],
      "execution_count": null,
      "metadata": {
        "jupyter": {
          "source_hidden": false,
          "outputs_hidden": false
        },
        "nteract": {
          "transient": {
            "deleting": false
          }
        },
        "tags": [
          "parameters"
        ]
      }
    },
    {
      "cell_type": "code",
      "source": [
        "\r\n",
        "def _load_config():\r\n",
        "\r\n",
        "    snapshot_date = datetime(2022, 3, 19)\r\n",
        "    num_days = 28\r\n",
        "    num_of_weeks = 4\r\n",
        "\r\n",
        "    only_feature_window = num_of_weeks * 7\r\n",
        "    churn_window = 7  # in days\r\n",
        "\r\n",
        "    date_range = [snapshot_date - timedelta(days=i) for i in range(num_days)]\r\n",
        "    return {\r\n",
        "        \"storage\": {\r\n",
        "            \"linked_service\": \"PlayFabUserEventData\",\r\n",
        "            \"kusto_database\": kusto_database,\r\n",
        "        },\r\n",
        "        \"label\": {\r\n",
        "            \"feature_and_label_window\": only_feature_window + churn_window,\r\n",
        "            \"only_feature_window\": num_of_weeks * 7,\r\n",
        "            \"only_label_window1\": 2 * churn_window,\r\n",
        "            \"label_generation_method\": 1,\r\n",
        "            \"only_label_window2\": churn_window,\r\n",
        "        },\r\n",
        "        \"window\": {\r\n",
        "            \"snapshot_date\": snapshot_date.date(),\r\n",
        "            \"churn_window\": churn_window,\r\n",
        "            \"date_range\": date_range,\r\n",
        "        },\r\n",
        "        \"title\": {\r\n",
        "            \"titles\": \"E1E6,1FCF,8B9B7,13D0C,B343,9FC07,6C1,6A49D,CCFB3,6BF5,B8646,33F0,F7659,38F3,9BF8C,DC4BB,CA87,B009,5888,9C1B0,5CC39,78597,C284C,9F83A,9EC4,88E9,B689,D777E,85B34,39C72,3703,C845,7A051,3D16B,117F3,E32E,20C23,A55E1,5449,AE2C,BE5B1,24D7,726B,3751,EB20F,A9F,358A,CB6AF,DEE32,B3BA1,3D70F,C7B27,35B2,E55FF,5EA1,72E0,2993,B1CBB,16B8C,9092,FBBE5,76F,3169F,B4132,7B5B8,FE9A9,10C7,E0D42,4EED8,49935,C2AE5,299E,33E71,64A9,DDAB6,D66A,263C7,3646,8728,E991C,AE0F,2BC3,8C3,F0B70,CF6C,63FDD,7D37,10282,82E3,7EAA,674EF,C4BB0,D02F3,4A02,98A86,8D5C2,6CF2,F2ECB,224C8,6E10,B0D4D,37A9,E5ED,6B7A,7D89,FAF7,A5F3,1291,B85B,6EEA,82E21,F7679,CB681,97675,7500B,9915E\",\r\n",
        "        },\r\n",
        "        \"filter\": {\"with_nonactive_users\": True, \"with_new_users\": True},\r\n",
        "        \"path\": \"/model/lightgbm.model\",\r\n",
        "        \"time\": \"Timestamp\",\r\n",
        "        \"training\": {\"train_split\": 0.85, \"label\": \"label\"},\r\n",
        "    }\r\n",
        "\r\n",
        "\r\n",
        "config_json = _load_config()\r\n",
        "titles_list = list(map(lambda title: [title], config_json['title']['titles'].split(\",\")))\r\n"
      ],
      "outputs": [],
      "execution_count": null,
      "metadata": {
        "jupyter": {
          "source_hidden": false,
          "outputs_hidden": false
        },
        "nteract": {
          "transient": {
            "deleting": false
          }
        }
      }
    },
    {
      "cell_type": "code",
      "source": [
        "gametitles = spark.createDataFrame(titles_list, [\"TitleId\"]).cache()\r\n",
        "\r\n",
        "featurizer = pfc.PFChurnFeaturizer(config_json=config_json)\r\n",
        "classifier = pfc.PFChurnClassifier(config_json=config_json)\r\n",
        "\r\n",
        "churn_pipe = Pipeline(stages=[featurizer, classifier.get_classifier()])\r\n",
        "churn_grid = ParamGridBuilder().addGrid(Lgbm.isUnbalance, [True, False]).build()\r\n",
        "churn_eval = BinaryClassificationEvaluator(rawPredictionCol=\"prediction\")\r\n"
      ],
      "outputs": [],
      "execution_count": null,
      "metadata": {
        "jupyter": {
          "source_hidden": false,
          "outputs_hidden": false
        },
        "nteract": {
          "transient": {
            "deleting": false
          }
        }
      }
    },
    {
      "cell_type": "markdown",
      "source": [
        "# Train V2"
      ],
      "metadata": {
        "nteract": {
          "transient": {
            "deleting": false
          }
        }
      }
    },
    {
      "cell_type": "code",
      "source": [
        "# import mlflow\r\n",
        "\r\n",
        "# mlflow.spark.autolog()\r\n",
        "# mlflow.pyspark.ml.autolog()\r\n",
        "\r\n",
        "# with mlflow.start_run() as run:\r\n",
        "game_titles = spark.createDataFrame(titles_list, [\"TitleId\"]).cache()\r\n",
        "featurizers = pfc.PFChurnFeaturizer(config_json=config_json)\r\n",
        "features_df = featurizers.transform(game_titles)\r\n",
        "\r\n",
        "train, test = features_df.randomSplit([.85, .15], seed=1)\r\n",
        "\r\n",
        "churn_model = pfc.PFChurnClassifier(config_json).fit(train) #.save(config_json[\"path\"])\r\n",
        "predictions = churn_model.transform(test)\r\n",
        "run_metrics = tsMetrics().transform(predictions)\r\n"
      ],
      "outputs": [],
      "execution_count": null,
      "metadata": {
        "jupyter": {
          "source_hidden": false,
          "outputs_hidden": false
        },
        "nteract": {
          "transient": {
            "deleting": false
          }
        }
      }
    },
    {
      "cell_type": "code",
      "source": [
        "predictions = churn_model.transform(test)\r\n",
        "\r\n",
        "predicictions.write.parquet(\"abfss://dev@{STORAGE_ACCOUNT_NAME}.dfs.core.windows.net/\")"
      ],
      "outputs": [],
      "execution_count": null,
      "metadata": {
        "jupyter": {
          "source_hidden": false,
          "outputs_hidden": false
        },
        "nteract": {
          "transient": {
            "deleting": false
          }
        }
      }
    },
    {
      "cell_type": "markdown",
      "source": [
        "# Train V2 and Validate"
      ],
      "metadata": {
        "nteract": {
          "transient": {
            "deleting": false
          }
        }
      }
    },
    {
      "cell_type": "code",
      "source": [
        "gaming_tvs = TrainValidationSplit(\r\n",
        "    estimator=churn_pipe, estimatorParamMaps=churn_grid, evaluator=churn_eval, parallelism=16, seed=42\r\n",
        ")\r\n",
        "\r\n",
        "score_model = gaming_tvs.fit(gametitles).save(config_json[\"path\"])\r\n",
        "predictions = score_model.transform(gametitles).cache()\r\n",
        "\r\n",
        "print(f\"Model Metrics: {score_model.validationMetrics}\")\r\n",
        "predictions.select(\"prediction\").summary().show()"
      ],
      "outputs": [],
      "execution_count": null,
      "metadata": {
        "jupyter": {
          "source_hidden": false,
          "outputs_hidden": false
        },
        "nteract": {
          "transient": {
            "deleting": false
          }
        }
      }
    },
    {
      "cell_type": "markdown",
      "source": [
        "# Train V2 and Cross Validate"
      ],
      "metadata": {
        "nteract": {
          "transient": {
            "deleting": false
          }
        }
      }
    },
    {
      "cell_type": "code",
      "source": [
        "from pyspark.ml.tuning import CrossValidator\r\n",
        "\r\n",
        "gaming_cvs = CrossValidator(\r\n",
        "    estimator=churn_pipe, estimatorParamMaps=churn_grid, evaluator=churn_eval, parallelism=16, seed=42\r\n",
        ")\r\n",
        "\r\n",
        "cross_model = gaming_cvs.fit(gametitles)\r\n",
        "cross_preds = cross_model.transform(gametitles).cache()\r\n",
        "\r\n",
        "\r\n",
        "print(f\"Model Metrics: {cross_model.validationMetrics}\")\r\n",
        "cross_preds.select(\"prediction\").summary().show()"
      ],
      "outputs": [],
      "execution_count": null,
      "metadata": {
        "jupyter": {
          "source_hidden": false,
          "outputs_hidden": false
        },
        "nteract": {
          "transient": {
            "deleting": false
          }
        }
      }
    },
    {
      "cell_type": "code",
      "source": [],
      "outputs": [],
      "execution_count": null,
      "metadata": {
        "jupyter": {
          "source_hidden": false,
          "outputs_hidden": false
        },
        "nteract": {
          "transient": {
            "deleting": false
          }
        }
      }
    }
  ],
  "metadata": {
    "kernelspec": {
      "name": "synapse_pyspark",
      "language": "Python",
      "display_name": "Synapse PySpark"
    },
    "language_info": {
      "name": "python"
    },
    "kernel_info": {
      "name": "synapse_pyspark"
    },
    "save_output": true,
    "synapse_widget": {
      "version": "0.1",
      "state": {}
    }
  },
  "nbformat": 4,
  "nbformat_minor": 2
}
